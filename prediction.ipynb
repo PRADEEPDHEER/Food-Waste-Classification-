{
 "cells": [
  {
   "cell_type": "code",
   "execution_count": null,
   "id": "74b954e4-755b-47b7-85eb-80dac56e6ce3",
   "metadata": {},
   "outputs": [],
   "source": [
    "import joblib\n",
    "import pandas as pd\n",
    "\n",
    "\n",
    "model = joblib.load('food_price_model.pkl')\n",
    "\n",
    "\n",
    "def predict_food_price(input_data):\n",
    "    prediction = model.predict([input_data])\n",
    "    print(f\"Predicted Food Price: {prediction[0]}\")\n",
    "    return prediction[0]\n",
    "\n",
    "\n",
    "sample_input = [2024, 10, 'Wheat', 'USA', 'USD', 220]  \n",
    "sample_input = pd.get_dummies(pd.DataFrame([sample_input], columns=['Year', 'Month', 'Commodity', 'Country', 'Currency', 'Price']), drop_first=True)\n",
    "predict_food_price(sample_input.iloc[0])\n"
   ]
  }
 ],
 "metadata": {
  "kernelspec": {
   "display_name": "Python 3 (ipykernel)",
   "language": "python",
   "name": "python3"
  },
  "language_info": {
   "codemirror_mode": {
    "name": "ipython",
    "version": 3
   },
   "file_extension": ".py",
   "mimetype": "text/x-python",
   "name": "python",
   "nbconvert_exporter": "python",
   "pygments_lexer": "ipython3",
   "version": "3.12.4"
  }
 },
 "nbformat": 4,
 "nbformat_minor": 5
}
